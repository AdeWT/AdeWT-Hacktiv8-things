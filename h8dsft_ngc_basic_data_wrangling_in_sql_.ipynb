{
  "nbformat": 4,
  "nbformat_minor": 0,
  "metadata": {
    "colab": {
      "provenance": [],
      "authorship_tag": "ABX9TyOu7XmWIAd7X0aeQDx+7wvN",
      "include_colab_link": true
    },
    "kernelspec": {
      "name": "python3",
      "display_name": "Python 3"
    },
    "language_info": {
      "name": "python"
    }
  },
  "cells": [
    {
      "cell_type": "markdown",
      "metadata": {
        "id": "view-in-github",
        "colab_type": "text"
      },
      "source": [
        "<a href=\"https://colab.research.google.com/github/AdeWT/AdeWT-Hacktiv8-things/blob/main/h8dsft_ngc_basic_data_wrangling_in_sql_.ipynb\" target=\"_parent\"><img src=\"https://colab.research.google.com/assets/colab-badge.svg\" alt=\"Open In Colab\"/></a>"
      ]
    },
    {
      "cell_type": "markdown",
      "source": [],
      "metadata": {
        "id": "usxCP05LYLHv"
      }
    },
    {
      "cell_type": "markdown",
      "source": [
        "# Introduction\n",
        "\n",
        "Name: Ade William Tabrani\n",
        "\n",
        "Batch: RMT-026\n",
        "\n",
        "Non Graded Challange 5 of Phase 0 (Week2)\n",
        "============================================\n",
        "\n",
        "Regarding SQL: creating tables and inserting data, plus calling/querying data"
      ],
      "metadata": {
        "id": "hNPra9CCWj7p"
      }
    },
    {
      "cell_type": "markdown",
      "source": [
        "# Answer"
      ],
      "metadata": {
        "id": "MhEKw3CKYjX3"
      }
    },
    {
      "cell_type": "code",
      "source": [
        "%%sql\n",
        "\n",
        "-- Creates Customers table:\n",
        "CREATE TABLE customers(\n",
        " customerID serial PRIMARY KEY,\n",
        " customerName char(40),\n",
        " city char(40),\n",
        ");\n",
        "\n",
        "--Creates Orders table\n",
        "CREATE TABLE orders(\n",
        "\torderID serial PRIMARY KEY,\n",
        "\tcustomerID smallint FOREIGN KEY REFERENCES Customers(customerID),\n",
        "\torderDate date,\n",
        "\ttotalAmount smallint\n",
        ");\n",
        "\n",
        "\n",
        "--inserts data into customers table\n",
        "INSERT INTO customers (customerID, customerName, City)\n",
        "\tVALUES\n",
        "\t(1, 'John Doe', 'New York'),\n",
        "\t(2, 'Jane Smith', 'Los Angeles'),\n",
        "\t(3, 'David Johnson', 'Chicago');\n",
        "\n",
        "--inserts data into orders table\n",
        "INSERT INTO orders (customerID, orderDate, totalAmount)\n",
        "\tVALUES\n",
        "\t(1, '2022-10-1', 100),\n",
        "\t(1, '2022-2-15', 150),\n",
        "\t(2, '2022-3-20', 200),\n",
        "\t(3, '2022-4-25', 50);\n",
        "\n",
        "--calls the data of customers name and the frequency of their order\n",
        "SELECT customers.customerName, COUNT(orders.orderID) AS totalOrders\n",
        "\tFROM customers, orders\n",
        "\tWHERE customers.customerID = orders.customerID\n",
        "\tGROUP BY customers.customerName;"
      ],
      "metadata": {
        "colab": {
          "base_uri": "https://localhost:8080/"
        },
        "id": "NGEZIIA2ZUVR",
        "outputId": "661177ea-632e-4372-d094-7b7817285af5"
      },
      "execution_count": 1,
      "outputs": [
        {
          "output_type": "stream",
          "name": "stderr",
          "text": [
            "UsageError: Cell magic `%%sql` not found.\n"
          ]
        }
      ]
    }
  ]
}