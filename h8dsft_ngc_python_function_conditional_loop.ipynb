{
 "cells": [
  {
   "cell_type": "markdown",
   "metadata": {},
   "source": [
    "# Non-Graded Challange P0 W1 2 Hacktiv8 FTDS"
   ]
  },
  {
   "cell_type": "markdown",
   "metadata": {},
   "source": [
    "Ade William Tabrani"
   ]
  },
  {
   "cell_type": "markdown",
   "metadata": {},
   "source": [
    "Hacktiv8 FTDS RMT-026"
   ]
  },
  {
   "cell_type": "markdown",
   "metadata": {},
   "source": [
    "' '"
   ]
  },
  {
   "cell_type": "markdown",
   "metadata": {},
   "source": [
    "# Task 1: \n",
    "Number of words"
   ]
  },
  {
   "cell_type": "code",
   "execution_count": 29,
   "metadata": {},
   "outputs": [
    {
     "name": "stdout",
     "output_type": "stream",
     "text": [
      "Number of Words of \" Hello World! \"= 2\n",
      "Number of Words of \" Once upon a time in a faraway land \"= 8\n",
      "Number of Words of \" Money, gender roles, and trends are all social constructs \"= 9\n"
     ]
    },
    {
     "data": {
      "text/plain": [
       "9"
      ]
     },
     "execution_count": 29,
     "metadata": {},
     "output_type": "execute_result"
    }
   ],
   "source": [
    "def number_of_word(sentence):\n",
    "    count=len(sentence.split())\n",
    "    print(\"Number of Words of \\\"\", sentence, '\\\"=', count)\n",
    "    return count\n",
    "\n",
    "number_of_word(\"Hello World!\")\n",
    "number_of_word(\"Once upon a time in a faraway land\")\n",
    "number_of_word(\"Money, gender roles, and trends are all social constructs\")"
   ]
  },
  {
   "cell_type": "markdown",
   "metadata": {},
   "source": [
    "# Task 2: \n",
    "Find Multiple"
   ]
  },
  {
   "cell_type": "code",
   "execution_count": 11,
   "metadata": {},
   "outputs": [
    {
     "name": "stdout",
     "output_type": "stream",
     "text": [
      "Example 1 = [5, 10, 15, 20]\n",
      "Example 2 = [10, 20, 30, 40, 50]\n",
      "Random output = [1258, 1295, 1332, 1369, 1406, 1443, 1480, 1517, 1554, 1591]\n"
     ]
    }
   ],
   "source": [
    "def find_multiples(start_range, end_range, multiple):\n",
    "    num=range(1000)\n",
    "    timesOutput=[]\n",
    "    mulOutput= []\n",
    "    for i in num:\n",
    "        num2 = multiple * i\n",
    "        timesOutput.append(num2)\n",
    "    for n in timesOutput:\n",
    "        if n > start_range and n <= end_range:\n",
    "            mulOutput.append(n)\n",
    "    return mulOutput\n",
    "\n",
    "print('Example 1 =', find_multiples(1, 20, 5))\n",
    "print('Example 2 =', find_multiples(1, 50, 10))\n",
    "print('Random output =', find_multiples(1250, 1600, 37))\n",
    "\n",
    "# I know this seems inefficient like\n",
    "# the program has to keep 1000 multiplication results in memory\n",
    "# but eh it doesn't take long to execute the code and\n",
    "# it's the only method I can think of lmao\n",
    "    "
   ]
  },
  {
   "cell_type": "markdown",
   "metadata": {},
   "source": [
    "# Task 3: \n",
    "Grade Number to Alphabet Score or GPA Converter"
   ]
  },
  {
   "cell_type": "code",
   "execution_count": 10,
   "metadata": {},
   "outputs": [
    {
     "name": "stdout",
     "output_type": "stream",
     "text": [
      "{'Adam': '2.5', 'Faiz': '4'}\n",
      "{'Albert': 'A', 'Dwi': 'B', 'Syahdan': 'D', 'Veronica': 'B'}\n"
     ]
    }
   ],
   "source": [
    "def GradeConvert(convertTo, **studentNameAndScore):\n",
    "    studentName = list(studentNameAndScore.keys())\n",
    "    studentScore = list(studentNameAndScore.values())\n",
    "    nameList = []\n",
    "    scoreList = []\n",
    "    if convertTo == 'LetterGrade':\n",
    "        for x in studentScore:\n",
    "            if x >= 85 and x < 100:\n",
    "                scoreList.append('A')\n",
    "            elif x >= 70 and x < 85:\n",
    "                scoreList.append('B')\n",
    "            elif x >= 60 and x < 70:\n",
    "                scoreList.append('C')\n",
    "            elif x >= 50 and x < 60:\n",
    "                scoreList.append('D')\n",
    "            elif x >= 40 and x < 50:\n",
    "                scoreList.append('E')\n",
    "            else: scoreList.append('F')\n",
    "        for n in studentName:\n",
    "            nameList.append(n)\n",
    "        dictNameAndScore = dict(zip(nameList, scoreList))\n",
    "        print(dictNameAndScore)\n",
    "    if convertTo == 'GPA':\n",
    "        for x in studentScore:\n",
    "            if x >= 85 and x < 100:\n",
    "                scoreList.append('4')\n",
    "            elif x >= 70 and x < 85:\n",
    "                scoreList.append('3')\n",
    "            elif x >= 60 and x < 70:\n",
    "                scoreList.append('2.5')\n",
    "            elif x >= 50 and x < 60:\n",
    "                scoreList.append('2')\n",
    "            elif x >= 40 and x < 50:\n",
    "                scoreList.append('1.5')\n",
    "            else: scoreList.append('1')\n",
    "        for n in studentName:\n",
    "            nameList.append(n)\n",
    "        dictNameAndScore = dict(zip(nameList, scoreList))\n",
    "        print(dictNameAndScore)\n",
    "\n",
    "GradeConvert('GPA', Adam=62, Faiz=91)\n",
    "GradeConvert('LetterGrade', Albert=90, Dwi=82, Syahdan=58, Veronica=84) "
   ]
  },
  {
   "cell_type": "markdown",
   "metadata": {},
   "source": [
    "# Task 4\n",
    "Fibonacci Sequence"
   ]
  },
  {
   "cell_type": "code",
   "execution_count": 1,
   "metadata": {},
   "outputs": [
    {
     "name": "stdout",
     "output_type": "stream",
     "text": [
      "0\n",
      "Fibonacci Sequence up 0 th number (start from zero): [0]\n",
      "1\n",
      "Fibonacci Sequence up to 2 th number (start from zero): [0, 1, 1]\n",
      "3\n",
      "Fibonacci Sequence up to 4 th number (start from zero): [0, 1, 1, 2, 3]\n",
      "55\n",
      "Fibonacci Sequence up to 10 th number (start from zero): [0, 1, 1, 2, 3, 5, 8, 13, 21, 34, 55]\n",
      "6765\n",
      "Fibonacci Sequence up to 20 th number (start from zero): [0, 1, 1, 2, 3, 5, 8, 13, 21, 34, 55, 89, 144, 233, 377, 610, 987, 1597, 2584, 4181, 6765]\n",
      "832040\n",
      "Fibonacci Sequence up to 30 th number (start from zero): [0, 1, 1, 2, 3, 5, 8, 13, 21, 34, 55, 89, 144, 233, 377, 610, 987, 1597, 2584, 4181, 6765, 10946, 17711, 28657, 46368, 75025, 121393, 196418, 317811, 514229, 832040]\n"
     ]
    }
   ],
   "source": [
    "def fiboNumber(index):\n",
    "    if index == 0:\n",
    "        print(0)\n",
    "        print('Fibonacci Sequence up 0 th number (start from zero): [0]')\n",
    "    elif index == 1:\n",
    "        print(1)\n",
    "        print('Fibonacci Sequence up 1 th number (start from zero): [0, 1]')\n",
    "    else:\n",
    "        fiboIndex = 2\n",
    "        fiboList =[0, 1]\n",
    "        while fiboIndex < index+1:\n",
    "            fiboAdd1 = fiboList[fiboIndex - 2]\n",
    "            fiboAdd2 = fiboList[fiboIndex - 1]\n",
    "            summation = fiboAdd1 + fiboAdd2\n",
    "            fiboList.append(summation)\n",
    "            fiboIndex = fiboIndex + 1\n",
    "        print(fiboList[fiboIndex-1])\n",
    "        print('Fibonacci Sequence up to', fiboIndex-1, 'th number (start from zero):', fiboList)\n",
    "\n",
    "# This is jank I LOVE IT and I love that it works in generating\n",
    "# Fibonacci Sequence\n",
    "\n",
    "fiboNumber(0)\n",
    "fiboNumber(2)\n",
    "fiboNumber(4)\n",
    "fiboNumber(10)\n",
    "fiboNumber(20)\n",
    "fiboNumber(30)"
   ]
  }
 ],
 "metadata": {
  "kernelspec": {
   "display_name": "datascience1",
   "language": "python",
   "name": "python3"
  },
  "language_info": {
   "codemirror_mode": {
    "name": "ipython",
    "version": 3
   },
   "file_extension": ".py",
   "mimetype": "text/x-python",
   "name": "python",
   "nbconvert_exporter": "python",
   "pygments_lexer": "ipython3",
   "version": "3.9.18"
  }
 },
 "nbformat": 4,
 "nbformat_minor": 2
}
